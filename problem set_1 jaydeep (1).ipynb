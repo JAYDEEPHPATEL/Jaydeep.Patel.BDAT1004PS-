{
 "cells": [
  {
   "cell_type": "markdown",
   "id": "e1387e51",
   "metadata": {},
   "source": [
    "# Question 1"
   ]
  },
  {
   "cell_type": "code",
   "execution_count": 4,
   "id": "2f36642d",
   "metadata": {},
   "outputs": [
    {
     "name": "stdout",
     "output_type": "stream",
     "text": [
      "<class 'int'>\n",
      "<class 'float'>\n",
      "<class 'bool'>\n",
      "<class 'str'>\n",
      "<class 'int'>\n",
      "<class 'str'>\n",
      "<class 'str'>\n",
      "<class 'float'>\n",
      "<class 'int'>\n",
      "<class 'set'>\n",
      "<class 'bool'>\n",
      "<class 'float'>\n"
     ]
    }
   ],
   "source": [
    "n= 5\n",
    "print(type(n))\n",
    "\n",
    "n = 5.0\n",
    "print(type(n))\n",
    "\n",
    "n = 5 > 1\n",
    "print(type(n))\n",
    "\n",
    "n = '5'\n",
    "print(type(n))\n",
    "\n",
    "n = 5*2\n",
    "print(type(n))\n",
    "\n",
    "n = '5' * 2\n",
    "print(type(n))\n",
    "\n",
    "n = '5' + '2'\n",
    "print(type(n))\n",
    "\n",
    "n = 5/2\n",
    "print(type(n))\n",
    "\n",
    "n = 5%2\n",
    "print(type(n))\n",
    "\n",
    "n = {5,2,1}\n",
    "print(type(n))\n",
    "\n",
    "n = 5==3\n",
    "print(type(n))\n",
    "\n",
    "import math\n",
    "\n",
    "n = math.pi\n",
    "print(type(n))"
   ]
  },
  {
   "cell_type": "markdown",
   "id": "74acef7f",
   "metadata": {},
   "source": [
    "# Question 2"
   ]
  },
  {
   "cell_type": "code",
   "execution_count": 5,
   "id": "808491d4",
   "metadata": {},
   "outputs": [
    {
     "name": "stdout",
     "output_type": "stream",
     "text": [
      "34\n"
     ]
    }
   ],
   "source": [
    "print(len('Supercalifragilisticexpialidocious'))"
   ]
  },
  {
   "cell_type": "code",
   "execution_count": 8,
   "id": "eca63042",
   "metadata": {},
   "outputs": [
    {
     "name": "stdout",
     "output_type": "stream",
     "text": [
      "yes\n"
     ]
    }
   ],
   "source": [
    "str = 'Supercalifragilisticexpialidocious'\n",
    "if 'ice' in str:\n",
    "    print ('yes')\n",
    "else:\n",
    "    print ('no');"
   ]
  },
  {
   "cell_type": "code",
   "execution_count": 7,
   "id": "5db26868",
   "metadata": {},
   "outputs": [
    {
     "name": "stdout",
     "output_type": "stream",
     "text": [
      "34\n",
      "27\n",
      "34\n"
     ]
    }
   ],
   "source": [
    "a=int(len('Supercalifragilisticexpialidocious'))\n",
    "b=int(len('Honorificabilitudinitatibus'))\n",
    "c=int(len('Bababadalgharaghtakamminarronnkonn'))\n",
    "print(a)\n",
    "print(b)\n",
    "print(c)\n",
    "\n",
    "if(a>b and a>c):\n",
    "    print('Supercalifragilisticexpialidocious is the longest word.')\n",
    "elif(b>a and b>c):\n",
    "    print('Honorificabilitudinitatibus is the longest word.')\n",
    "elif(c>a and c>b):\n",
    "    print('Bababadalgharaghtakamminarronnkonn is the longest word.')"
   ]
  },
  {
   "cell_type": "code",
   "execution_count": 9,
   "id": "2a550e91",
   "metadata": {},
   "outputs": [
    {
     "name": "stdout",
     "output_type": "stream",
     "text": [
      "Bartok\n",
      "Buxtehude\n"
     ]
    }
   ],
   "source": [
    "composers = ['Berlioz', 'Borodin', 'Brian', 'Bartok', 'Bellini', 'Buxtehude', 'Bernstein']\n",
    "composers.sort()\n",
    "print(composers[0])\n",
    "print(composers[len(composers)-1])"
   ]
  },
  {
   "cell_type": "markdown",
   "id": "7032c2a1",
   "metadata": {},
   "source": [
    "# Question 3"
   ]
  },
  {
   "cell_type": "code",
   "execution_count": 10,
   "id": "a461565b",
   "metadata": {},
   "outputs": [
    {
     "name": "stdout",
     "output_type": "stream",
     "text": [
      "1.7320508075688772\n"
     ]
    }
   ],
   "source": [
    "def triangleArea(a,b,c):\n",
    "    s=(a+b+c)/2\n",
    "    area=(s*(s-a)*(s-b)*(s-c))**0.5\n",
    "    return area\n",
    "\n",
    "print(triangleArea(2,2,2))"
   ]
  },
  {
   "cell_type": "markdown",
   "id": "6912723c",
   "metadata": {},
   "source": [
    "# Question 4"
   ]
  },
  {
   "cell_type": "code",
   "execution_count": 11,
   "id": "a7ff44e7",
   "metadata": {},
   "outputs": [
    {
     "name": "stdout",
     "output_type": "stream",
     "text": [
      "Input the number of elements to be stored in the array:5\n",
      "Input 5 elements in the Array.\n",
      "Element - 0 : 25\n",
      "Element - 1 : 47\n",
      "Element - 2 : 42\n",
      "Element - 3 : 56\n",
      "Element - 4 : 32\n",
      "The Even Elements are: []\n",
      "The Odd Elements are: [25]\n",
      "The Even Elements are: []\n",
      "The Odd Elements are: [25, 47]\n",
      "The Even Elements are: [42]\n",
      "The Odd Elements are: [25, 47]\n",
      "The Even Elements are: [42, 56]\n",
      "The Odd Elements are: [25, 47]\n",
      "The Even Elements are: [42, 56, 32]\n",
      "The Odd Elements are: [25, 47]\n"
     ]
    }
   ],
   "source": [
    "def seperate(a):\n",
    "    even = []\n",
    "    odd = []\n",
    "    for i in a:\n",
    "        if(i % 2 ==0):\n",
    "            even.append(i)\n",
    "        else:\n",
    "            odd.append(i)\n",
    "        print('The Even Elements are:', even)\n",
    "        print('The Odd Elements are:', odd)\n",
    "        \n",
    "arrOddEven=list()\n",
    "arrLen=int(input('Input the number of elements to be stored in the array:'))\n",
    "print('Input {} elements in the Array.'.format(arrLen))\n",
    "for i in range(0,arrLen):\n",
    "    j=int(input('Element - {} : '.format(i)))\n",
    "    arrOddEven.append(j)\n",
    "seperate(arrOddEven)"
   ]
  },
  {
   "cell_type": "markdown",
   "id": "b97b73ea",
   "metadata": {},
   "source": [
    "# Question 5"
   ]
  },
  {
   "cell_type": "code",
   "execution_count": 12,
   "id": "8f207940",
   "metadata": {},
   "outputs": [
    {
     "name": "stdout",
     "output_type": "stream",
     "text": [
      "Enter x :1\n",
      "Enter x1 :0\n",
      "Enter x2 :2\n",
      "Enter y :1\n",
      "Enter y1 :0\n",
      "Enter y2 :3\n",
      "True\n"
     ]
    }
   ],
   "source": [
    "#function logic\n",
    "def inside(x, y, x1, y1, x2, y2) :\n",
    "\n",
    "    if (x > x1 and x < x2 and y > y1 and y < y2) :\n",
    "\n",
    "        return True\n",
    "\n",
    "    else :\n",
    "\n",
    "        return False\n",
    "x=int(input('Enter x :'))\n",
    "x1=int(input('Enter x1 :'))\n",
    "x2=int(input('Enter x2 :'))\n",
    "y=int(input('Enter y :'))\n",
    "y1=int(input('Enter y1 :'))\n",
    "y2=int(input('Enter y2 :'))\n",
    "\n",
    "\n",
    "F1=inside(x,y,x1,y1,x2,y2)\n",
    "print(F1)\n"
   ]
  },
  {
   "cell_type": "code",
   "execution_count": 13,
   "id": "44a1a259",
   "metadata": {},
   "outputs": [
    {
     "name": "stdout",
     "output_type": "stream",
     "text": [
      "False\n",
      "True\n"
     ]
    }
   ],
   "source": [
    "x=1\n",
    "y=1\n",
    "x1=0.3\n",
    "y1=0.5\n",
    "x2=1.1\n",
    "y2=0.7\n",
    "\n",
    "X= inside(x,y,x1,y1,x2,y2)\n",
    "print(X)\n",
    "\n",
    "x1=0.5\n",
    "y1=0.2\n",
    "x2=1.1\n",
    "y2=2\n",
    "\n",
    "Y=inside(x,y,x1,y1,x2,y2)\n",
    "print(Y)"
   ]
  },
  {
   "cell_type": "markdown",
   "id": "0f29e493",
   "metadata": {},
   "source": [
    "# Question 6"
   ]
  },
  {
   "cell_type": "code",
   "execution_count": 14,
   "id": "be310d83",
   "metadata": {},
   "outputs": [
    {
     "name": "stdout",
     "output_type": "stream",
     "text": [
      "Enter your string: happy\n",
      "appyhay\n"
     ]
    }
   ],
   "source": [
    "str = input(\"Enter your string: \")\n",
    "\n",
    "vowelsList = ['a', 'e', 'i', 'o', 'u']\n",
    "\n",
    "def pig(str):\n",
    "    for i in str:\n",
    "        if i not in vowelsList:\n",
    "            str = str[1:len(str)] + i + 'ay'\n",
    "            break\n",
    "        else:\n",
    "            str = str + 'way'\n",
    "            break\n",
    "    \n",
    "    print(str)\n",
    "\n",
    "pig(str)"
   ]
  },
  {
   "cell_type": "markdown",
   "id": "66d07981",
   "metadata": {},
   "source": [
    "# question 7"
   ]
  },
  {
   "cell_type": "code",
   "execution_count": null,
   "id": "7a02de09",
   "metadata": {},
   "outputs": [],
   "source": []
  }
 ],
 "metadata": {
  "kernelspec": {
   "display_name": "Python 3 (ipykernel)",
   "language": "python",
   "name": "python3"
  },
  "language_info": {
   "codemirror_mode": {
    "name": "ipython",
    "version": 3
   },
   "file_extension": ".py",
   "mimetype": "text/x-python",
   "name": "python",
   "nbconvert_exporter": "python",
   "pygments_lexer": "ipython3",
   "version": "3.9.12"
  }
 },
 "nbformat": 4,
 "nbformat_minor": 5
}
